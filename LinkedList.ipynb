{
 "nbformat": 4,
 "nbformat_minor": 2,
 "metadata": {
  "language_info": {
   "name": "python",
   "codemirror_mode": {
    "name": "ipython",
    "version": 3
   },
   "version": "3.7.5-final"
  },
  "orig_nbformat": 2,
  "file_extension": ".py",
  "mimetype": "text/x-python",
  "name": "python",
  "npconvert_exporter": "python",
  "pygments_lexer": "ipython3",
  "version": 3,
  "kernelspec": {
   "name": "python37564bitccb79ca7ef7b42c2a455cc46fc192c66",
   "display_name": "Python 3.7.5 64-bit"
  }
 },
 "cells": [
  {
   "cell_type": "markdown",
   "execution_count": 2,
   "metadata": {},
   "outputs": [
    {
     "ename": "SyntaxError",
     "evalue": "invalid syntax (<ipython-input-2-fd01394d1f71>, line 2)",
     "output_type": "error",
     "traceback": [
      "\u001b[0;36m  File \u001b[0;32m\"<ipython-input-2-fd01394d1f71>\"\u001b[0;36m, line \u001b[0;32m2\u001b[0m\n\u001b[0;31m    As a Mathematics student, I studied as much applied Math as possible. I was interested in the application of Differential Equations towards understanding clockwork processes and Statistics towards understanding random processes. While studying under those two fields, I was not satisfied with book and loose-leaf knowledge alone. I wanted to get the ideas under my fingers\u001b[0m\n\u001b[0m       ^\u001b[0m\n\u001b[0;31mSyntaxError\u001b[0m\u001b[0;31m:\u001b[0m invalid syntax\n"
     ]
    }
   ],
   "source": [
    "# My Own Linked List Implementation\n",
    "As a Mathematics student, I studied as much applied Math as possible. I was interested in the application of Differential Equations towards understanding clockwork processes and Statistics towards understanding random processes. While studying under those two fields, I was not satisfied with book and loose-leaf knowledge alone. I wanted to get the ideas under my fingers in code so that I'd have working knowledge of using Mathematics in the real world. \n",
    "\n",
    "In my junior year, between courses in Linear Algebra, Mathematical Modeling, I took on Mathematical coding projects in the field of Image Processing within a research seminar. We tried to use Matlab to code 'novel methods' arising in the Machine Learning field, to test how well they worked against one another. Ultimately, I had a running K-Means classifer that ran at a snail's pace because I didn't know much about running-time complexity or memory management!\n",
    "\n",
    "So in an effort to relieve my past (I'm getting old), I have reached back to my old projects, hoping to complete them in a modern framework. Had I known as much as I do now, I would have used classic techniques in CS as a foundation by utilizing Data Structures and Algorithms on those structures.\n",
    "\n",
    "Here is my effort to create a Linked List implementation from scratch."
   ]
  },
  {
   "cell_type": "code",
   "execution_count": 1,
   "metadata": {},
   "outputs": [
    {
     "name": "stdout",
     "output_type": "stream",
     "text": "1\n2\n"
    }
   ],
   "source": [
    "# import the Node and LinkedList class\n",
    "from LinkedList import *\n",
    "\n",
    "# create a LinkedList object\n",
    "myList = LinkedList(1)\n",
    "\n",
    "print(myList.first)\n",
    "\n",
    "myList.addNode(2)\n",
    "print(myList.current)"
   ]
  },
  {
   "cell_type": "markdown",
   "execution_count": null,
   "metadata": {},
   "outputs": [],
   "source": [
    "You can iterate through all of the list with a `for` statement. `LinkedList` overrides the `__iter__` and `__next__` methods for iterable objects."
   ]
  },
  {
   "cell_type": "code",
   "execution_count": 2,
   "metadata": {},
   "outputs": [
    {
     "name": "stdout",
     "output_type": "stream",
     "text": "1\n2\n"
    }
   ],
   "source": [
    "myiter = iter(myList)\n",
    "\n",
    "for x in myiter:\n",
    "    print(x)"
   ]
  },
  {
   "cell_type": "markdown",
   "execution_count": null,
   "metadata": {},
   "outputs": [],
   "source": [
    "Although nothing is stopping you from adding in objects of other types."
   ]
  },
  {
   "cell_type": "code",
   "execution_count": 3,
   "metadata": {},
   "outputs": [
    {
     "name": "stdout",
     "output_type": "stream",
     "text": "1\n2\nasdf\n"
    }
   ],
   "source": [
    "# add a string to the list\n",
    "myList.addNode(\"asdf\")\n",
    "\n",
    "myiter = iter(myList)\n",
    "\n",
    "for x in myiter:\n",
    "    print(x)"
   ]
  },
  {
   "cell_type": "markdown",
   "execution_count": 6,
   "metadata": {},
   "outputs": [
    {
     "ename": "SyntaxError",
     "evalue": "invalid syntax (<ipython-input-6-c446bb817907>, line 1)",
     "output_type": "error",
     "traceback": [
      "\u001b[0;36m  File \u001b[0;32m\"<ipython-input-6-c446bb817907>\"\u001b[0;36m, line \u001b[0;32m1\u001b[0m\n\u001b[0;31m    If all objects are of the same type, you can call a method on each through .node\u001b[0m\n\u001b[0m         ^\u001b[0m\n\u001b[0;31mSyntaxError\u001b[0m\u001b[0;31m:\u001b[0m invalid syntax\n"
     ]
    }
   ],
   "source": [
    "If all objects are of the same type, you can call a method on each through .node "
   ]
  },
  {
   "cell_type": "code",
   "execution_count": 9,
   "metadata": {},
   "outputs": [
    {
     "name": "stdout",
     "output_type": "stream",
     "text": "2.1\n4.4\n5.6\n"
    }
   ],
   "source": [
    "myOther = LinkedList(1.1)\n",
    "myOther.addNode(3.4)\n",
    "myOther.addNode(4.6)\n",
    "\n",
    "myiter = iter(myOther)\n",
    "\n",
    "for x in myiter:\n",
    "    x.node += 1\n",
    "    print(x)"
   ]
  },
  {
   "cell_type": "code",
   "execution_count": null,
   "metadata": {},
   "outputs": [],
   "source": []
  }
 ]
}